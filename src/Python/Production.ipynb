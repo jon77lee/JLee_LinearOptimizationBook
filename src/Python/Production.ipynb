{
 "cells": [
  {
   "cell_type": "markdown",
   "metadata": {},
   "source": [
    "# Production model: constraint-style LP with Python/Gurobi\n",
    "## [Jon Lee](https://sites.google.com/site/jonleewebpage/home), 10/20/2020\n",
    "\n",
    "Notes:\n",
    "* This example is meant to show how to:\n",
    "   * do constraint-style LP's (as opposed to matrix style), though the model we are setting up is $\\max\\{c'x ~:~ Ax\\leq b,~ x\\geq 0\\}$.\n",
    "   * extract primal and dual solutions, primal and dual slacks, and sensitivity information are printed\n",
    "   * pass constraint names to Gurobi and then retrieve constraints from Gurobi by these names\n",
    "   \n",
    "References:\n",
    "* Jon Lee, \"A First Course in Linear Optimization\", Fourth Edition (Version 4.0), Reex Press, 2013-20."
   ]
  },
  {
   "cell_type": "markdown",
   "metadata": {},
   "source": [
    "MIT License\n",
    "\n",
    "Copyright (c) 2020 Jon Lee\n",
    "\n",
    "Permission is hereby granted, free of charge, to any person obtaining a copy \n",
    "of this software and associated documentation files (the \"Software\"), to deal\n",
    "in the Software without restriction, including without limitation the rights\n",
    "to use, copy, modify, merge, publish, distribute, sublicense, and/or sell\n",
    "copies of the Software, and to permit persons to whom the Software is\n",
    "furnished to do so, subject to the following conditions:\n",
    "\n",
    "The above copyright notice and this permission notice shall be included in all\n",
    "copies or substantial portions of the Software.\n",
    "\n",
    "THE SOFTWARE IS PROVIDED \"AS IS\", WITHOUT WARRANTY OF ANY KIND, EXPRESS OR\n",
    "IMPLIED, INCLUDING BUT NOT LIMITED TO THE WARRANTIES OF MERCHANTABILITY,\n",
    "FITNESS FOR A PARTICULAR PURPOSE AND NONINFRINGEMENT. IN NO EVENT SHALL THE\n",
    "AUTHORS OR COPYRIGHT HOLDERS BE LIABLE FOR ANY CLAIM, DAMAGES OR OTHER\n",
    "LIABILITY, WHETHER IN AN ACTION OF CONTRACT, TORT OR OTHERWISE, ARISING FROM,\n",
    "OUT OF OR IN CONNECTION WITH THE SOFTWARE OR THE USE OR OTHER DEALINGS IN THE\n",
    "SOFTWARE."
   ]
  },
  {
   "cell_type": "code",
   "execution_count": 1,
   "metadata": {},
   "outputs": [],
   "source": [
    "%reset -f\n",
    "import numpy as np\n",
    "import gurobipy as gp\n",
    "from gurobipy import GRB\n",
    "\n",
    "class StopExecution(Exception):\n",
    "    def _render_traceback_(self):\n",
    "        pass"
   ]
  },
  {
   "cell_type": "code",
   "execution_count": 2,
   "metadata": {},
   "outputs": [],
   "source": [
    "# Some toy data\n",
    "m=3\n",
    "n=2\n",
    "M=list(range(0,m))\n",
    "N=list(range(0,n))\n",
    "A = np.array([ [8, 5], [8, 6], [8, 7] ])\n",
    "b = np.array([32, 33, 35])\n",
    "c = np.array([3 ,2])"
   ]
  },
  {
   "cell_type": "code",
   "execution_count": 3,
   "metadata": {},
   "outputs": [
    {
     "name": "stdout",
     "output_type": "stream",
     "text": [
      "Academic license - for non-commercial use only - expires 2021-08-26\n",
      "Using license file C:\\Users\\jonxlee\\gurobi.lic\n",
      "Discarded solution information\n"
     ]
    }
   ],
   "source": [
    "model = gp.Model()\n",
    "x = model.addMVar(n)\n",
    "revenueobjective = model.setObjective(sum(c[j]*x[j] for j in N), GRB.MAXIMIZE)\n",
    "for i in M:    # naming the constraints r0,r1,r2,... (inside Gurobi)\n",
    "    model.addConstr(sum(A[i,j]*x[j] for j in N) <= b[i], name='r'+str(i)) "
   ]
  },
  {
   "cell_type": "code",
   "execution_count": 4,
   "metadata": {
    "scrolled": false
   },
   "outputs": [
    {
     "name": "stdout",
     "output_type": "stream",
     "text": [
      "Gurobi Optimizer version 9.1.2 build v9.1.2rc0 (win64)\n",
      "Thread count: 4 physical cores, 8 logical processors, using up to 8 threads\n",
      "Optimize a model with 3 rows, 2 columns and 6 nonzeros\n",
      "Model fingerprint: 0x3e75bd93\n",
      "Coefficient statistics:\n",
      "  Matrix range     [5e+00, 8e+00]\n",
      "  Objective range  [2e+00, 3e+00]\n",
      "  Bounds range     [0e+00, 0e+00]\n",
      "  RHS range        [3e+01, 4e+01]\n",
      "Presolve time: 0.00s\n",
      "Presolved: 3 rows, 2 columns, 6 nonzeros\n",
      "\n",
      "Iteration    Objective       Primal Inf.    Dual Inf.      Time\n",
      "       0    5.0000000e+30   5.250000e+30   5.000000e+00      0s\n",
      "       3    1.2125000e+01   0.000000e+00   0.000000e+00      0s\n",
      "\n",
      "Solved in 3 iterations and 0.01 seconds\n",
      "Optimal objective  1.212500000e+01\n",
      " \n",
      "primal var,      dual slack,      obj delta-lb,    obj delta-ub\n",
      "x[ 0 ]= 3.3750   t[ 0 ]= 0.       L[ 0 ]= -0.3333   U[ 0 ]= 0.2   \n",
      "x[ 1 ]= 1.       t[ 1 ]= 0.       L[ 1 ]= -0.125    U[ 1 ]= 0.25  \n",
      " \n",
      "dual vars,       primal slack,    rhs delta-lb,    rhs delta-ub\n",
      "y[ 0 ]= 0.2500   s[ 0 ]= 0.       L[ 0 ]= -1.       U[ 0 ]= 1.    \n",
      "y[ 1 ]= 0.125    s[ 1 ]= 0.       L[ 1 ]= -1.       U[ 1 ]= 0.5   \n",
      "y[ 2 ]= 0.       s[ 2 ]= 1.0000   L[ 2 ]= -1.       U[ 2 ]= inf\n"
     ]
    }
   ],
   "source": [
    "model.optimize()\n",
    "if model.status != GRB.Status.OPTIMAL:\n",
    "    print(\"***** Gurobi solve status:\", model.status)\n",
    "    print(\"***** This is a problem. Model does not have an optimal solution\")\n",
    "    raise StopExecution\n",
    "print(\" \")\n",
    "print(\"primal var,      dual slack,      obj delta-lb,    obj delta-ub\")\n",
    "for j in N: print(\"x[\",j,\"]=\",np.format_float_positional(np.ndarray.item(x[j].X),4,pad_right=4), \n",
    "                  \"  t[\",j,\"]=\", np.format_float_positional(np.ndarray.item(x[j].RC),4,pad_right=4),\n",
    "                  \"  L[\",j,\"]=\", np.format_float_positional(np.ndarray.item(x[j].SAObjLow-c[j]),4,pad_right=4),\n",
    "                  \"  U[\",j,\"]=\", np.format_float_positional(np.ndarray.item(x[j].SAObjUp-c[j]),4,pad_right=4))\n",
    "print(\" \")\n",
    "print(\"dual vars,       primal slack,    rhs delta-lb,    rhs delta-ub\")\n",
    "for i in M: \n",
    "    constr=model.getConstrByName('r'+str(i))    # retriving from Gurobi the named constraints r0,r1,r2,...\n",
    "    print(\"y[\",i,\"]=\",np.format_float_positional(constr.Pi,4,pad_right=4), \n",
    "                  \"  s[\",i,\"]=\", np.format_float_positional(constr.Slack,4,pad_right=4),\n",
    "                  \"  L[\",i,\"]=\", np.format_float_positional(constr.SARHSLow-b[i],4,pad_right=4),\n",
    "                  \"  U[\",i,\"]=\", np.format_float_positional(constr.SARHSUp-b[i],4,pad_right=4))"
   ]
  }
 ],
 "metadata": {
  "kernelspec": {
   "display_name": "Python 3",
   "language": "python",
   "name": "python3"
  },
  "language_info": {
   "codemirror_mode": {
    "name": "ipython",
    "version": 3
   },
   "file_extension": ".py",
   "mimetype": "text/x-python",
   "name": "python",
   "nbconvert_exporter": "python",
   "pygments_lexer": "ipython3",
   "version": "3.8.3"
  }
 },
 "nbformat": 4,
 "nbformat_minor": 4
}
