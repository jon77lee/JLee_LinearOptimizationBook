{
 "cells": [
  {
   "cell_type": "markdown",
   "metadata": {},
   "source": [
    "# Subgradient Optimization with Python/Gurobi\n",
    "## [Jon Lee](https://sites.google.com/site/jonleewebpage/home), 11/2/2020\n",
    "\n",
    "Apply Subgradient Optimization to:\n",
    "\n",
    "\\begin{align*}\\tag{Q}\n",
    "z = \\min~& c'x\\\\\n",
    "&Ex  \\geq h\\\\\n",
    "&Ax  = b\\\\\n",
    "& x \\geq 0,\n",
    "\\end{align*}\n",
    "relaxing $Ex  \\geq h$ in the Lagrangian.\n",
    "\n",
    "References:\n",
    "* Jon Lee, \"A First Course in Linear Optimization\", Fourth Edition (Version 4.0), Reex Press, 2013-20."
   ]
  },
  {
   "cell_type": "markdown",
   "metadata": {},
   "source": [
    "MIT License\n",
    "\n",
    "Copyright (c) 2020 Jon Lee\n",
    "\n",
    "Permission is hereby granted, free of charge, to any person obtaining a copy \n",
    "of this software and associated documentation files (the \"Software\"), to deal\n",
    "in the Software without restriction, including without limitation the rights\n",
    "to use, copy, modify, merge, publish, distribute, sublicense, and/or sell\n",
    "copies of the Software, and to permit persons to whom the Software is\n",
    "furnished to do so, subject to the following conditions:\n",
    "\n",
    "The above copyright notice and this permission notice shall be included in all\n",
    "copies or substantial portions of the Software.\n",
    "\n",
    "THE SOFTWARE IS PROVIDED \"AS IS\", WITHOUT WARRANTY OF ANY KIND, EXPRESS OR\n",
    "IMPLIED, INCLUDING BUT NOT LIMITED TO THE WARRANTIES OF MERCHANTABILITY,\n",
    "FITNESS FOR A PARTICULAR PURPOSE AND NONINFRINGEMENT. IN NO EVENT SHALL THE\n",
    "AUTHORS OR COPYRIGHT HOLDERS BE LIABLE FOR ANY CLAIM, DAMAGES OR OTHER\n",
    "LIABILITY, WHETHER IN AN ACTION OF CONTRACT, TORT OR OTHERWISE, ARISING FROM,\n",
    "OUT OF OR IN CONNECTION WITH THE SOFTWARE OR THE USE OR OTHER DEALINGS IN THE\n",
    "SOFTWARE."
   ]
  },
  {
   "cell_type": "code",
   "execution_count": 1,
   "metadata": {},
   "outputs": [],
   "source": [
    "%reset -f\n",
    "import numpy as np\n",
    "#%matplotlib notebook\n",
    "%matplotlib inline\n",
    "import matplotlib.pyplot as plt\n",
    "import gurobipy as gp\n",
    "from gurobipy import GRB\n",
    "\n",
    "class StopExecution(Exception):\n",
    "    def _render_traceback_(self):\n",
    "        pass"
   ]
  },
  {
   "cell_type": "code",
   "execution_count": 2,
   "metadata": {},
   "outputs": [],
   "source": [
    "MAXIT = 500\n",
    "HarmonicStepSize = False       # If you choose False, then you have to guess a 'target value'\n",
    "GUESS = -5.6                   #   but don't guess a target value higher than z!!!!\n",
    "SmartInitialization = True     # Set 'False' to initialize with y=0.\n",
    "\n",
    "# generate a random example\n",
    "n = 100   # number of variables\n",
    "m1 = 200  # number of equations to relax\n",
    "m2 = 50  # number of equations to keep\n",
    "np.random.seed(25)   # change the seed for a differemt example \n",
    "E=0.01*np.random.randint(-5,high=5,size=(m1,n)).astype(float) #np.random.randn(m1,nt)\n",
    "A=0.01*np.random.randint(-2,high=3,size=(m2,n)).astype(float) #np.random.randn(m2,nt)\n",
    "\n",
    "# choose the right-hand sides so that Q will be feasible\n",
    "xfeas=0.1*np.random.randint(0,high=5,size=n).astype(float)\n",
    "h=E.dot(xfeas) - 0.1*np.random.randint(0,high=10,size=m1).astype(float)      \n",
    "b=A.dot(xfeas)\n",
    "\n",
    "# choose the objective function so that the dual of Q will be feasible\n",
    "yfeas=0.1*np.random.randint(0,high=5,size=m1).astype(float)\n",
    "pifeas=0.1*np.random.randint(-5,high=5,size=m2).astype(float)\n",
    "c=np.transpose(E)@yfeas + np.transpose(A)@pifeas +  0.1*np.random.randint(0,high=1,size=n).astype(float)   "
   ]
  },
  {
   "cell_type": "code",
   "execution_count": 3,
   "metadata": {},
   "outputs": [
    {
     "name": "stdout",
     "output_type": "stream",
     "text": [
      "Academic license - for non-commercial use only - expires 2021-08-26\n",
      "Using license file C:\\Users\\jonxlee\\gurobi.lic\n",
      "Discarded solution information\n",
      "Gurobi Optimizer version 9.1.2 build v9.1.2rc0 (win64)\n",
      "Thread count: 4 physical cores, 8 logical processors, using up to 8 threads\n",
      "Optimize a model with 250 rows, 100 columns and 21957 nonzeros\n",
      "Model fingerprint: 0xd5eae979\n",
      "Coefficient statistics:\n",
      "  Matrix range     [1e-02, 5e-02]\n",
      "  Objective range  [2e-02, 5e-01]\n",
      "  Bounds range     [0e+00, 0e+00]\n",
      "  RHS range        [3e-18, 1e+00]\n",
      "Presolve time: 0.01s\n",
      "Presolved: 250 rows, 100 columns, 21957 nonzeros\n",
      "\n",
      "Iteration    Objective       Primal Inf.    Dual Inf.      Time\n",
      "       0   -4.2122000e+31   1.799360e+33   4.212200e+01      0s\n",
      "     211   -5.6119344e+00   0.000000e+00   0.000000e+00      0s\n",
      "\n",
      "Solved in 211 iterations and 0.04 seconds\n",
      "Optimal objective -5.611934358e+00\n"
     ]
    }
   ],
   "source": [
    "# solve the problem as one big LP --- for comparison purposes\n",
    "modelQ = gp.Model()\n",
    "x = modelQ.addMVar(n)  \n",
    "objective = modelQ.setObjective(c@x, GRB.MINIMIZE)\n",
    "constraintsQ1 = modelQ.addConstr(E@x >= h)\n",
    "constraintsQ2 = modelQ.addConstr(A@x == b)\n",
    "modelQ.optimize()\n",
    "if modelQ.status != GRB.Status.OPTIMAL:\n",
    "    print(\"***** Gurobi solve status:\", modelQ.status)\n",
    "    print(\"***** This is a problem. Model Q does not have an optimal solution\")\n",
    "    raise StopExecution"
   ]
  },
  {
   "cell_type": "code",
   "execution_count": 4,
   "metadata": {},
   "outputs": [
    {
     "name": "stdout",
     "output_type": "stream",
     "text": [
      "Discarded solution information\n",
      "Gurobi Optimizer version 9.1.2 build v9.1.2rc0 (win64)\n",
      "Thread count: 4 physical cores, 8 logical processors, using up to 8 threads\n",
      "Optimize a model with 100 rows, 200 columns and 17965 nonzeros\n",
      "Model fingerprint: 0x64395335\n",
      "Coefficient statistics:\n",
      "  Matrix range     [1e-02, 5e-02]\n",
      "  Objective range  [0e+00, 0e+00]\n",
      "  Bounds range     [0e+00, 0e+00]\n",
      "  RHS range        [2e-02, 5e-01]\n",
      "Presolve time: 0.01s\n",
      "Presolved: 100 rows, 200 columns, 17965 nonzeros\n",
      "\n",
      "Iteration    Objective       Primal Inf.    Dual Inf.      Time\n",
      "       0    0.0000000e+00   1.684880e+02   0.000000e+00      0s\n",
      "      79    0.0000000e+00   0.000000e+00   0.000000e+00      0s\n",
      "\n",
      "Solved in 79 iterations and 0.03 seconds\n",
      "Optimal objective  0.000000000e+00\n",
      "Discarded solution information\n"
     ]
    }
   ],
   "source": [
    "# 'SmartInitialization' chooses the initial y so that the dual of the Lagrangian Subproblem has (pi=0 as) \n",
    "# a feasible solution, thus making sure that the initial Lagrangian Subproblem is not unbounded.\n",
    "if SmartInitialization:\n",
    "    modelY = gp.Model()\n",
    "    yvar = modelY.addMVar(m1)  \n",
    "    constraintsY = modelY.addConstr(np.transpose(E)@yvar <= c)\n",
    "    modelY.optimize()\n",
    "    y=yvar.X\n",
    "else: y=np.zeros(m1)\n",
    "\n",
    "# initialization \n",
    "k=1\n",
    "bestlb = -np.Inf\n",
    "\n",
    "# set up the Lagrangian relaxation\n",
    "modelL = gp.Model()\n",
    "modelL.setParam('OutputFlag', 0)   # quiet the Gurobi output \n",
    "x = modelL.addMVar(n)  \n",
    "constraintsL = modelL.addConstr(A@x == b)\n",
    "objective = modelL.setObjective((c-y.dot(E))@x, GRB.MINIMIZE)\n",
    "\n",
    "modelL.optimize()\n",
    "if modelL.status != GRB.Status.OPTIMAL:\n",
    "    print(\"***** Gurobi solve status:\", modelL.status)\n",
    "    print(\"***** This is a problem. Lagrangian Subproblem is unbounded.\")\n",
    "    print(\"***** The algorithm cannot work with this starting y.\")\n",
    "    raise StopExecution\n",
    "v = y.dot(h) + modelL.Objval\n",
    "results1=[0]\n",
    "results2=[v]\n",
    "bestlb = v"
   ]
  },
  {
   "cell_type": "code",
   "execution_count": 5,
   "metadata": {},
   "outputs": [
    {
     "name": "stdout",
     "output_type": "stream",
     "text": [
      "***** z: -5.611934358015312\n",
      "***** first lower bound: -35.97487470911054\n",
      "***** best lower bound: -6.309166317427381\n"
     ]
    }
   ],
   "source": [
    "while k < MAXIT:\n",
    "    k += 1\n",
    "    g = h - E.dot(x.X)\n",
    "    if HarmonicStepSize:\n",
    "        stepsize = 1/k             # This one converges in theory, but it is slow.\n",
    "    else:                          # Instead, you can make a GUESS at the max\n",
    "        stepsize = (GUESS - v)/(g@g)   # and then use this 'Polyak' stepsize\n",
    "    y = np.maximum(y + stepsize*g, np.zeros(m1))   # The projection keeps y>=0. \n",
    "    objective = modelL.setObjective((c-y.dot(E))@x, GRB.MINIMIZE)\n",
    "    modelL.optimize()\n",
    "    if modelL.status != GRB.Status.OPTIMAL:\n",
    "        k -= 1\n",
    "        print(\"***** Gurobi solve status:\", GRB.OPTIMAL)\n",
    "        print(\"***** This is a problem. Lagrangian Subproblem is unbounded.\")\n",
    "        print(\"***** The algorithm cannot continue after k =\",k)\n",
    "        break\n",
    "    v = y.dot(h) + modelL.Objval\n",
    "    bestlb = np.max((bestlb,v))\n",
    "    results1=np.append(results1,k-1)\n",
    "    results2=np.append(results2,v)\n",
    " \n",
    "print(\"***** z:\", modelQ.Objval)\n",
    "print(\"***** first lower bound:\", results2[0])\n",
    "print(\"***** best lower bound:\", bestlb)"
   ]
  },
  {
   "cell_type": "code",
   "execution_count": 6,
   "metadata": {},
   "outputs": [
    {
     "data": {
      "image/png": "[encoded data removed]",
      "text/plain": [
       "<Figure size 720x720 with 1 Axes>"
      ]
     },
     "metadata": {
      "needs_background": "light"
     },
     "output_type": "display_data"
    }
   ],
   "source": [
    "if k > 1:\n",
    "    fig, ax = plt.subplots(figsize=(10,10))\n",
    "    ax.plot(results1, results2)\n",
    "    ax.plot(results1, modelQ.Objval*np.ones(k))\n",
    "    ax.set(xlabel='iteration', ylabel='v(y)')\n",
    "    ax.grid()\n",
    "    plt.show()"
   ]
  }
 ],
 "metadata": {
  "kernelspec": {
   "display_name": "Python 3",
   "language": "python",
   "name": "python3"
  },
  "language_info": {
   "codemirror_mode": {
    "name": "ipython",
    "version": 3
   },
   "file_extension": ".py",
   "mimetype": "text/x-python",
   "name": "python",
   "nbconvert_exporter": "python",
   "pygments_lexer": "ipython3",
   "version": "3.8.3"
  }
 },
 "nbformat": 4,
 "nbformat_minor": 4
}
