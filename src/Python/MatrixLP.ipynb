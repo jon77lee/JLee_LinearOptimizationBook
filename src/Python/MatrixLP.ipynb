{
 "cells": [
  {
   "cell_type": "markdown",
   "metadata": {},
   "source": [
    "# Example: Setting up and solving a matrix-style LP with Python/Gurobi\n",
    "## [Jon Lee](https://sites.google.com/site/jonleewebpage/home), 10/20/2020\n",
    "\n",
    "\\begin{align*}\n",
    "& \\min c'x+f'w\\\\\n",
    "& Ax+Bw \\leq b\\\\\n",
    "& Dx \\phantom{+Bw~} = g\\\\\n",
    "&x\\geq 0,~ w\\leq 0\n",
    "\\end{align*}\n",
    "\n",
    "Note that we have the following dual, but we don't model it:\n",
    "\n",
    "\\begin{align*}\n",
    "& \\max y'b + v'g\\\\\n",
    "& y'A + v'D \\leq c'\\\\\n",
    "& y'B \\phantom{+v'D~} \\geq f'\\\\\n",
    "&y\\leq 0,~ v \\hbox{ unrestricted}\n",
    "\\end{align*}\n",
    "\n",
    "Rather, we recover its solution from Gurobi.\n",
    "\n",
    "References:\n",
    "* Jon Lee, \"A First Course in Linear Optimization\", Fourth Edition (Version 4.0), Reex Press, 2013-20."
   ]
  },
  {
   "cell_type": "markdown",
   "metadata": {},
   "source": [
    "MIT License\n",
    "\n",
    "Copyright (c) 2020 Jon Lee\n",
    "\n",
    "Permission is hereby granted, free of charge, to any person obtaining a copy \n",
    "of this software and associated documentation files (the \"Software\"), to deal\n",
    "in the Software without restriction, including without limitation the rights\n",
    "to use, copy, modify, merge, publish, distribute, sublicense, and/or sell\n",
    "copies of the Software, and to permit persons to whom the Software is\n",
    "furnished to do so, subject to the following conditions:\n",
    "\n",
    "The above copyright notice and this permission notice shall be included in all\n",
    "copies or substantial portions of the Software.\n",
    "\n",
    "THE SOFTWARE IS PROVIDED \"AS IS\", WITHOUT WARRANTY OF ANY KIND, EXPRESS OR\n",
    "IMPLIED, INCLUDING BUT NOT LIMITED TO THE WARRANTIES OF MERCHANTABILITY,\n",
    "FITNESS FOR A PARTICULAR PURPOSE AND NONINFRINGEMENT. IN NO EVENT SHALL THE\n",
    "AUTHORS OR COPYRIGHT HOLDERS BE LIABLE FOR ANY CLAIM, DAMAGES OR OTHER\n",
    "LIABILITY, WHETHER IN AN ACTION OF CONTRACT, TORT OR OTHERWISE, ARISING FROM,\n",
    "OUT OF OR IN CONNECTION WITH THE SOFTWARE OR THE USE OR OTHER DEALINGS IN THE\n",
    "SOFTWARE."
   ]
  },
  {
   "cell_type": "code",
   "execution_count": 1,
   "metadata": {},
   "outputs": [],
   "source": [
    "%reset -f\n",
    "import numpy as np\n",
    "import gurobipy as gp\n",
    "from gurobipy import GRB\n",
    "\n",
    "class StopExecution(Exception):\n",
    "    def _render_traceback_(self):\n",
    "        pass"
   ]
  },
  {
   "cell_type": "code",
   "execution_count": 2,
   "metadata": {},
   "outputs": [],
   "source": [
    "# setting the matrix sizes and random data\n",
    "n1=7\n",
    "n2=15\n",
    "m1=2\n",
    "m2=4\n",
    "np.random.seed(56) # set seed to be able to repeat the same random data\n",
    "A=np.random.rand(m1,n1)\n",
    "B=np.random.rand(m1,n2)\n",
    "D=np.random.rand(m2,n1)\n",
    "\n",
    "# Organize the situation (i.e., choose the right-hand side coefficients) \n",
    "#   so that the primal problem has a feasible solution\n",
    "xs=np.random.rand(n1)\n",
    "ws=-np.random.rand(n2)\n",
    "b=np.matmul(A,xs)+np.matmul(B,ws)+0.01*np.random.rand(m1)\n",
    "g=np.matmul(D,xs)\n",
    "\n",
    "# Organize the situation (i.e., choose the objective coefficients) \n",
    "#   so that the dual problem has a feasible solution\n",
    "ys=-np.random.rand(m1)\n",
    "vs=np.random.rand(m2)-np.random.rand(m2)\n",
    "c=np.matmul(np.transpose(A),ys)+np.matmul(np.transpose(D),vs)+0.01*np.random.rand(n1)\n",
    "f=np.matmul(np.transpose(B),ys)-0.01*np.random.rand(n2)"
   ]
  },
  {
   "cell_type": "code",
   "execution_count": 3,
   "metadata": {},
   "outputs": [
    {
     "name": "stdout",
     "output_type": "stream",
     "text": [
      "Academic license - for non-commercial use only - expires 2021-08-26\n",
      "Using license file C:\\Users\\jonxlee\\gurobi.lic\n",
      "Discarded solution information\n"
     ]
    }
   ],
   "source": [
    "model = gp.Model()\n",
    "x = model.addMVar(n1)   # default is a nonnegative continuous variable\n",
    "w = model.addMVar(n2, ub=0.0, lb=-GRB.INFINITY)\n",
    "objective = model.setObjective(c@x+f@w, GRB.MINIMIZE)\n",
    "constraints1 = model.addConstr(A@x+B@w <= b)\n",
    "constraints2 = model.addConstr(D@x == g)"
   ]
  },
  {
   "cell_type": "code",
   "execution_count": 4,
   "metadata": {},
   "outputs": [
    {
     "name": "stdout",
     "output_type": "stream",
     "text": [
      "Gurobi Optimizer version 9.1.2 build v9.1.2rc0 (win64)\n",
      "Thread count: 4 physical cores, 8 logical processors, using up to 8 threads\n",
      "Optimize a model with 6 rows, 22 columns and 72 nonzeros\n",
      "Model fingerprint: 0x734450bc\n",
      "Coefficient statistics:\n",
      "  Matrix range     [2e-03, 1e+00]\n",
      "  Objective range  [1e-01, 1e+00]\n",
      "  Bounds range     [0e+00, 0e+00]\n",
      "  RHS range        [7e-01, 3e+00]\n",
      "Presolve time: 0.01s\n",
      "Presolved: 6 rows, 22 columns, 72 nonzeros\n",
      "\n",
      "Iteration    Objective       Primal Inf.    Dual Inf.      Time\n",
      "       0   -7.2547823e+30   1.946982e+31   7.254782e+00      0s\n",
      "       9    2.6453973e+00   0.000000e+00   0.000000e+00      0s\n",
      "\n",
      "Solved in 9 iterations and 0.02 seconds\n",
      "Optimal objective  2.645397253e+00\n"
     ]
    }
   ],
   "source": [
    "model.optimize()\n",
    "if model.status != GRB.Status.OPTIMAL:\n",
    "    print(\"***** Gurobi solve status:\", model.status)\n",
    "    print(\"***** This is a problem. Model does not have an optimal solution\")\n",
    "    raise StopExecution"
   ]
  },
  {
   "cell_type": "code",
   "execution_count": 5,
   "metadata": {},
   "outputs": [
    {
     "name": "stdout",
     "output_type": "stream",
     "text": [
      "***** Primal solution:\n",
      "x[ 0 ]= 0.2689\n",
      "x[ 1 ]= 0.0080\n",
      "x[ 2 ]= 1.3952\n",
      "x[ 3 ]= 0.    \n",
      "x[ 4 ]= 0.4962\n",
      "x[ 5 ]= 0.    \n",
      "x[ 6 ]= 0.    \n",
      " \n",
      "w[ 0 ]= 0.    \n",
      "w[ 1 ]= 0.    \n",
      "w[ 2 ]= 0.    \n",
      "w[ 3 ]= 0.    \n",
      "w[ 4 ]= 0.    \n",
      "w[ 5 ]= 0.    \n",
      "w[ 6 ]= 0.    \n",
      "w[ 7 ]= 0.    \n",
      "w[ 8 ]= 0.    \n",
      "w[ 9 ]= 0.    \n",
      "w[ 10 ]= -4.7348\n",
      "w[ 11 ]= 0.    \n",
      "w[ 12 ]= -4.392 \n",
      "w[ 13 ]= 0.    \n",
      "w[ 14 ]= 0.    \n",
      " \n",
      "***** Dual solution:\n",
      "y[ 0 ]= -0.4424\n",
      "y[ 1 ]= -0.7261\n",
      " \n",
      "v[ 0 ]= -0.8196\n",
      "v[ 1 ]= -0.6668\n",
      "v[ 2 ]= -0.0458\n",
      "v[ 3 ]= 0.1904\n"
     ]
    }
   ],
   "source": [
    "print(\"***** Primal solution:\")\n",
    "for j in range(0,n1): print(\"x[\",j,\"]=\",\n",
    "    np.format_float_positional(np.ndarray.item(x[j].X),4,pad_right=4))\n",
    "print(\" \")\n",
    "for j in range(0,n2): print(\"w[\",j,\"]=\",\n",
    "    np.format_float_positional(np.ndarray.item(w[j].X),4,pad_right=4))\n",
    "print(\" \") \n",
    "print(\"***** Dual solution:\")\n",
    "for i in range(0,m1): print(\"y[\",i,\"]=\",\n",
    "    np.format_float_positional(constraints1[i].Pi,4,pad_right=4))\n",
    "print(\" \")\n",
    "for i in range(0,m2): print(\"v[\",i,\"]=\",\n",
    "    np.format_float_positional(constraints2[i].Pi,4,pad_right=4))"
   ]
  }
 ],
 "metadata": {
  "kernelspec": {
   "display_name": "Python 3",
   "language": "python",
   "name": "python3"
  },
  "language_info": {
   "codemirror_mode": {
    "name": "ipython",
    "version": 3
   },
   "file_extension": ".py",
   "mimetype": "text/x-python",
   "name": "python",
   "nbconvert_exporter": "python",
   "pygments_lexer": "ipython3",
   "version": "3.8.3"
  }
 },
 "nbformat": 4,
 "nbformat_minor": 4
}
